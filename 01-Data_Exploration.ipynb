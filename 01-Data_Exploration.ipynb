{
 "cells": [
  {
   "cell_type": "markdown",
   "metadata": {},
   "source": [
    "# 01 - Explore the CICIoT2023 dataset"
   ]
  },
  {
   "cell_type": "markdown",
   "metadata": {},
   "source": [
    "Imports"
   ]
  },
  {
   "cell_type": "code",
   "execution_count": 132,
   "metadata": {},
   "outputs": [],
   "source": [
    "import pandas as pd\n",
    "import numpy as np\n",
    "import os\n",
    "from tqdm import tqdm"
   ]
  },
  {
   "cell_type": "code",
   "execution_count": 133,
   "metadata": {},
   "outputs": [],
   "source": [
    "DATASET_DIRECTORY = '../datasets/CICIoT2023/'"
   ]
  },
  {
   "cell_type": "markdown",
   "metadata": {},
   "source": [
    "Import the Dataset"
   ]
  },
  {
   "cell_type": "code",
   "execution_count": 134,
   "metadata": {},
   "outputs": [],
   "source": [
    "# Find all CSV files in the dataset directory and sort them\n",
    "df_sets = [k for k in os.listdir(DATASET_DIRECTORY) if k.endswith('.csv')]\n",
    "df_sets.sort()\n",
    "\n",
    "# Split the dataset into training and test sets. 80% training, 20% test\n",
    "training_sets = df_sets[:int(len(df_sets)*.8)]\n",
    "test_sets = df_sets[int(len(df_sets)*.8):]"
   ]
  },
  {
   "cell_type": "markdown",
   "metadata": {},
   "source": [
    "Examine file counts and size"
   ]
  },
  {
   "cell_type": "code",
   "execution_count": 135,
   "metadata": {},
   "outputs": [
    {
     "name": "stdout",
     "output_type": "stream",
     "text": [
      "Training sets: 135\n",
      "Test sets: 34\n"
     ]
    }
   ],
   "source": [
    "# Print the number of files in each set\n",
    "print('Training sets: {}'.format(len(training_sets)))\n",
    "print('Test sets: {}'.format(len(test_sets)))"
   ]
  },
  {
   "cell_type": "code",
   "execution_count": 136,
   "metadata": {},
   "outputs": [
    {
     "name": "stdout",
     "output_type": "stream",
     "text": [
      "Min file size: 62.41 MB\n",
      "Max file size: 132.99 MB\n",
      "Avg file size: 81.39 MB\n"
     ]
    }
   ],
   "source": [
    "# Show the min, max and average file size. Output size in MB\n",
    "print('Min file size: {} MB'.format(round(min([os.path.getsize(DATASET_DIRECTORY + k) for k in df_sets]) / 1000000, 2)))\n",
    "print('Max file size: {} MB'.format(round(max([os.path.getsize(DATASET_DIRECTORY + k) for k in df_sets]) / 1000000, 2)))\n",
    "print('Avg file size: {} MB'.format(round(np.mean([os.path.getsize(DATASET_DIRECTORY + k) for k in df_sets]) / 1000000, 2)))"
   ]
  },
  {
   "cell_type": "code",
   "execution_count": 137,
   "metadata": {},
   "outputs": [
    {
     "name": "stdout",
     "output_type": "stream",
     "text": [
      "Rows: 243649\n",
      "Columns: 47\n"
     ]
    },
    {
     "data": {
      "text/html": [
       "<div>\n",
       "<style scoped>\n",
       "    .dataframe tbody tr th:only-of-type {\n",
       "        vertical-align: middle;\n",
       "    }\n",
       "\n",
       "    .dataframe tbody tr th {\n",
       "        vertical-align: top;\n",
       "    }\n",
       "\n",
       "    .dataframe thead th {\n",
       "        text-align: right;\n",
       "    }\n",
       "</style>\n",
       "<table border=\"1\" class=\"dataframe\">\n",
       "  <thead>\n",
       "    <tr style=\"text-align: right;\">\n",
       "      <th></th>\n",
       "      <th>flow_duration</th>\n",
       "      <th>Header_Length</th>\n",
       "      <th>Protocol Type</th>\n",
       "      <th>Duration</th>\n",
       "      <th>Rate</th>\n",
       "      <th>Srate</th>\n",
       "      <th>Drate</th>\n",
       "      <th>fin_flag_number</th>\n",
       "      <th>syn_flag_number</th>\n",
       "      <th>rst_flag_number</th>\n",
       "      <th>...</th>\n",
       "      <th>Std</th>\n",
       "      <th>Tot size</th>\n",
       "      <th>IAT</th>\n",
       "      <th>Number</th>\n",
       "      <th>Magnitue</th>\n",
       "      <th>Radius</th>\n",
       "      <th>Covariance</th>\n",
       "      <th>Variance</th>\n",
       "      <th>Weight</th>\n",
       "      <th>label</th>\n",
       "    </tr>\n",
       "  </thead>\n",
       "  <tbody>\n",
       "    <tr>\n",
       "      <th>0</th>\n",
       "      <td>0.000838</td>\n",
       "      <td>54.62</td>\n",
       "      <td>6.05</td>\n",
       "      <td>64.00</td>\n",
       "      <td>11.961779</td>\n",
       "      <td>11.961779</td>\n",
       "      <td>0.0</td>\n",
       "      <td>0.0</td>\n",
       "      <td>0.0</td>\n",
       "      <td>0.0</td>\n",
       "      <td>...</td>\n",
       "      <td>0.111473</td>\n",
       "      <td>54.45</td>\n",
       "      <td>8.307598e+07</td>\n",
       "      <td>9.5</td>\n",
       "      <td>10.392912</td>\n",
       "      <td>0.037895</td>\n",
       "      <td>0.035900</td>\n",
       "      <td>0.02</td>\n",
       "      <td>141.55</td>\n",
       "      <td>DDoS-TCP_Flood</td>\n",
       "    </tr>\n",
       "    <tr>\n",
       "      <th>1</th>\n",
       "      <td>0.005486</td>\n",
       "      <td>75.88</td>\n",
       "      <td>6.00</td>\n",
       "      <td>64.00</td>\n",
       "      <td>29.502125</td>\n",
       "      <td>29.502125</td>\n",
       "      <td>0.0</td>\n",
       "      <td>0.0</td>\n",
       "      <td>1.0</td>\n",
       "      <td>0.0</td>\n",
       "      <td>...</td>\n",
       "      <td>0.100314</td>\n",
       "      <td>54.24</td>\n",
       "      <td>8.309325e+07</td>\n",
       "      <td>9.5</td>\n",
       "      <td>10.395361</td>\n",
       "      <td>0.143036</td>\n",
       "      <td>0.346802</td>\n",
       "      <td>0.03</td>\n",
       "      <td>141.55</td>\n",
       "      <td>DDoS-SYN_Flood</td>\n",
       "    </tr>\n",
       "    <tr>\n",
       "      <th>2</th>\n",
       "      <td>0.000000</td>\n",
       "      <td>0.00</td>\n",
       "      <td>45.61</td>\n",
       "      <td>65.81</td>\n",
       "      <td>151.517376</td>\n",
       "      <td>151.517376</td>\n",
       "      <td>0.0</td>\n",
       "      <td>0.0</td>\n",
       "      <td>0.0</td>\n",
       "      <td>0.0</td>\n",
       "      <td>...</td>\n",
       "      <td>57.165223</td>\n",
       "      <td>576.80</td>\n",
       "      <td>8.369379e+07</td>\n",
       "      <td>9.5</td>\n",
       "      <td>33.783684</td>\n",
       "      <td>80.958879</td>\n",
       "      <td>8638.780727</td>\n",
       "      <td>0.40</td>\n",
       "      <td>141.55</td>\n",
       "      <td>Mirai-greeth_flood</td>\n",
       "    </tr>\n",
       "    <tr>\n",
       "      <th>3</th>\n",
       "      <td>0.000000</td>\n",
       "      <td>54.00</td>\n",
       "      <td>6.00</td>\n",
       "      <td>64.00</td>\n",
       "      <td>1.500542</td>\n",
       "      <td>1.500542</td>\n",
       "      <td>0.0</td>\n",
       "      <td>0.0</td>\n",
       "      <td>1.0</td>\n",
       "      <td>0.0</td>\n",
       "      <td>...</td>\n",
       "      <td>0.000000</td>\n",
       "      <td>54.00</td>\n",
       "      <td>8.309408e+07</td>\n",
       "      <td>9.5</td>\n",
       "      <td>10.392305</td>\n",
       "      <td>0.000000</td>\n",
       "      <td>0.000000</td>\n",
       "      <td>0.00</td>\n",
       "      <td>141.55</td>\n",
       "      <td>DDoS-SYN_Flood</td>\n",
       "    </tr>\n",
       "    <tr>\n",
       "      <th>4</th>\n",
       "      <td>0.004568</td>\n",
       "      <td>745.42</td>\n",
       "      <td>5.95</td>\n",
       "      <td>65.13</td>\n",
       "      <td>8.082100</td>\n",
       "      <td>8.082100</td>\n",
       "      <td>0.0</td>\n",
       "      <td>0.0</td>\n",
       "      <td>0.0</td>\n",
       "      <td>0.0</td>\n",
       "      <td>...</td>\n",
       "      <td>549.190629</td>\n",
       "      <td>927.04</td>\n",
       "      <td>8.333561e+07</td>\n",
       "      <td>9.5</td>\n",
       "      <td>41.550978</td>\n",
       "      <td>776.661367</td>\n",
       "      <td>318084.344439</td>\n",
       "      <td>0.95</td>\n",
       "      <td>141.55</td>\n",
       "      <td>DDoS-ACK_Fragmentation</td>\n",
       "    </tr>\n",
       "  </tbody>\n",
       "</table>\n",
       "<p>5 rows × 47 columns</p>\n",
       "</div>"
      ],
      "text/plain": [
       "   flow_duration  Header_Length  Protocol Type  Duration        Rate  \\\n",
       "0       0.000838          54.62           6.05     64.00   11.961779   \n",
       "1       0.005486          75.88           6.00     64.00   29.502125   \n",
       "2       0.000000           0.00          45.61     65.81  151.517376   \n",
       "3       0.000000          54.00           6.00     64.00    1.500542   \n",
       "4       0.004568         745.42           5.95     65.13    8.082100   \n",
       "\n",
       "        Srate  Drate  fin_flag_number  syn_flag_number  rst_flag_number  ...  \\\n",
       "0   11.961779    0.0              0.0              0.0              0.0  ...   \n",
       "1   29.502125    0.0              0.0              1.0              0.0  ...   \n",
       "2  151.517376    0.0              0.0              0.0              0.0  ...   \n",
       "3    1.500542    0.0              0.0              1.0              0.0  ...   \n",
       "4    8.082100    0.0              0.0              0.0              0.0  ...   \n",
       "\n",
       "          Std  Tot size           IAT  Number   Magnitue      Radius  \\\n",
       "0    0.111473     54.45  8.307598e+07     9.5  10.392912    0.037895   \n",
       "1    0.100314     54.24  8.309325e+07     9.5  10.395361    0.143036   \n",
       "2   57.165223    576.80  8.369379e+07     9.5  33.783684   80.958879   \n",
       "3    0.000000     54.00  8.309408e+07     9.5  10.392305    0.000000   \n",
       "4  549.190629    927.04  8.333561e+07     9.5  41.550978  776.661367   \n",
       "\n",
       "      Covariance  Variance  Weight                   label  \n",
       "0       0.035900      0.02  141.55          DDoS-TCP_Flood  \n",
       "1       0.346802      0.03  141.55          DDoS-SYN_Flood  \n",
       "2    8638.780727      0.40  141.55      Mirai-greeth_flood  \n",
       "3       0.000000      0.00  141.55          DDoS-SYN_Flood  \n",
       "4  318084.344439      0.95  141.55  DDoS-ACK_Fragmentation  \n",
       "\n",
       "[5 rows x 47 columns]"
      ]
     },
     "execution_count": 137,
     "metadata": {},
     "output_type": "execute_result"
    }
   ],
   "source": [
    "# Read the last csv from training sets into a dataframe\n",
    "df = pd.read_csv(DATASET_DIRECTORY + training_sets[-1])\n",
    "\n",
    "\n",
    "# Print the number of rows and columns in the dataframe\n",
    "print('Rows: {}'.format(df.shape[0]))\n",
    "print('Columns: {}'.format(df.shape[1]))\n",
    "\n",
    "# Print the first 5 rows of the dataframe\n",
    "df.head()"
   ]
  },
  {
   "cell_type": "markdown",
   "metadata": {},
   "source": [
    "Columns used in the paper"
   ]
  },
  {
   "cell_type": "code",
   "execution_count": 138,
   "metadata": {},
   "outputs": [],
   "source": [
    "X_columns = [\n",
    "    'flow_duration', 'Header_Length', 'Protocol Type', 'Duration',\n",
    "       'Rate', 'Srate', 'Drate', 'fin_flag_number', 'syn_flag_number',\n",
    "       'rst_flag_number', 'psh_flag_number', 'ack_flag_number',\n",
    "       'ece_flag_number', 'cwr_flag_number', 'ack_count',\n",
    "       'syn_count', 'fin_count', 'urg_count', 'rst_count', \n",
    "    'HTTP', 'HTTPS', 'DNS', 'Telnet', 'SMTP', 'SSH', 'IRC', 'TCP',\n",
    "       'UDP', 'DHCP', 'ARP', 'ICMP', 'IPv', 'LLC', 'Tot sum', 'Min',\n",
    "       'Max', 'AVG', 'Std', 'Tot size', 'IAT', 'Number', 'Magnitue',\n",
    "       'Radius', 'Covariance', 'Variance', 'Weight', \n",
    "]\n",
    "y_column = 'label'"
   ]
  },
  {
   "cell_type": "code",
   "execution_count": 139,
   "metadata": {},
   "outputs": [
    {
     "name": "stdout",
     "output_type": "stream",
     "text": [
      "X_columns: 46\n",
      "y_column: label\n"
     ]
    }
   ],
   "source": [
    "# Show the number of X_columns and y_column\n",
    "print('X_columns: {}'.format(len(X_columns)))\n",
    "print('y_column: {}'.format(y_column))"
   ]
  },
  {
   "cell_type": "code",
   "execution_count": 140,
   "metadata": {},
   "outputs": [
    {
     "name": "stdout",
     "output_type": "stream",
     "text": [
      "Unique values in y_column: 34\n",
      "['DDoS-TCP_Flood' 'DDoS-SYN_Flood' 'Mirai-greeth_flood'\n",
      " 'DDoS-ACK_Fragmentation' 'Mirai-greip_flood' 'DDoS-ICMP_Flood'\n",
      " 'DDoS-RSTFINFlood' 'DDoS-PSHACK_Flood' 'DoS-TCP_Flood'\n",
      " 'DDoS-SynonymousIP_Flood' 'DDoS-ICMP_Fragmentation' 'DDoS-UDP_Flood'\n",
      " 'DoS-UDP_Flood' 'DoS-SYN_Flood' 'BenignTraffic' 'DDoS-SlowLoris'\n",
      " 'Mirai-udpplain' 'DDoS-UDP_Fragmentation' 'DictionaryBruteForce'\n",
      " 'DNS_Spoofing' 'Recon-HostDiscovery' 'MITM-ArpSpoofing' 'Recon-OSScan'\n",
      " 'Recon-PortScan' 'VulnerabilityScan' 'DoS-HTTP_Flood' 'CommandInjection'\n",
      " 'DDoS-HTTP_Flood' 'SqlInjection' 'BrowserHijacking' 'Backdoor_Malware'\n",
      " 'Recon-PingSweep' 'Uploading_Attack' 'XSS']\n"
     ]
    }
   ],
   "source": [
    "# Show the number of unique values in the y_column\n",
    "print('Unique values in y_column: {}'.format(len(df[y_column].unique())))\n",
    "\n",
    "# Print them out\n",
    "print(df[y_column].unique())\n",
    "\n",
    "# Save them as attack_labels\n",
    "attack_labels = df[y_column].unique()\n"
   ]
  },
  {
   "cell_type": "code",
   "execution_count": 141,
   "metadata": {},
   "outputs": [
    {
     "name": "stdout",
     "output_type": "stream",
     "text": [
      "DDoS-TCP_Flood: 23858\n",
      "DDoS-SYN_Flood: 21241\n",
      "Mirai-greeth_flood: 5180\n",
      "DDoS-ACK_Fragmentation: 1455\n",
      "Mirai-greip_flood: 3789\n",
      "DDoS-ICMP_Flood: 37502\n",
      "DDoS-RSTFINFlood: 21149\n",
      "DDoS-PSHACK_Flood: 21507\n",
      "DoS-TCP_Flood: 13898\n",
      "DDoS-SynonymousIP_Flood: 18730\n",
      "DDoS-ICMP_Fragmentation: 2382\n",
      "DDoS-UDP_Flood: 27891\n",
      "DoS-UDP_Flood: 17507\n",
      "DoS-SYN_Flood: 10574\n",
      "BenignTraffic: 5738\n",
      "DDoS-SlowLoris: 131\n",
      "Mirai-udpplain: 4626\n",
      "DDoS-UDP_Fragmentation: 1442\n",
      "DictionaryBruteForce: 69\n",
      "DNS_Spoofing: 954\n",
      "Recon-HostDiscovery: 711\n",
      "MITM-ArpSpoofing: 1578\n",
      "Recon-OSScan: 469\n",
      "Recon-PortScan: 432\n",
      "VulnerabilityScan: 165\n",
      "DoS-HTTP_Flood: 384\n",
      "CommandInjection: 33\n",
      "DDoS-HTTP_Flood: 138\n",
      "SqlInjection: 21\n",
      "BrowserHijacking: 49\n",
      "Backdoor_Malware: 10\n",
      "Recon-PingSweep: 13\n",
      "Uploading_Attack: 5\n",
      "XSS: 18\n"
     ]
    }
   ],
   "source": [
    "# Count the number of rows for each attack label\n",
    "for label in attack_labels:\n",
    "    print('{}: {}'.format(label, df[df[y_column] == label].shape[0]))\n",
    "    "
   ]
  },
  {
   "cell_type": "code",
   "execution_count": 142,
   "metadata": {},
   "outputs": [],
   "source": [
    "# Creating a dictionary of attack types for 33 attack classes + 1 for benign traffic\n",
    "dict_34_classes = {'BenignTraffic': 0 ,\n",
    "                    'DDoS-RSTFINFlood' :1, 'DDoS-PSHACK_Flood':2,  'DDoS-SYN_Flood':3, 'DDoS-UDP_Flood':4, 'DDoS-TCP_Flood':5, \n",
    "                    'DDoS-ICMP_Flood':6, 'DDoS-SynonymousIP_Flood':7, 'DDoS-ACK_Fragmentation':8, 'DDoS-UDP_Fragmentation':9, 'DDoS-ICMP_Fragmentation':10, \n",
    "                    'DDoS-SlowLoris':11, 'DDoS-HTTP_Flood':12, 'DoS-UDP_Flood':13, 'DoS-SYN_Flood':14, 'DoS-TCP_Flood':15, 'DoS-HTTP_Flood':16,                 # DDoS and DoS\n",
    "                    'Mirai-greeth_flood': 17, 'Mirai-greip_flood': 18, 'Mirai-udpplain': 19,                                                                    # Mirai \n",
    "                    'Recon-PingSweep': 20, 'Recon-OSScan': 21, 'Recon-PortScan': 22, 'VulnerabilityScan': 23, 'Recon-HostDiscovery': 24,                        # Reconnaissance\n",
    "                    'DNS_Spoofing': 25, 'MITM-ArpSpoofing': 26,                                                                                                 # Spoofing\n",
    "                    'BrowserHijacking': 27, 'Backdoor_Malware': 28, 'XSS': 29, 'Uploading_Attack': 30, 'SqlInjection': 31, 'CommandInjection': 32,              # Web\n",
    "                    'DictionaryBruteForce': 33}                                                                                                                 # Brute Force \n",
    "\n",
    "dict_7_classes = {  0: 0 ,\n",
    "                    1 :1, 2:1,  3:1, 4:1, 5:1, 6:1, 7:1, 8:1, 9:1, 10:1, 11:1, 12:1, 13:1, 14:1, 15:1, 16:1,                                                    # DDoS and DoS                    \n",
    "                    17: 2, 18: 2, 19: 2,                                                                                                                        # Mirai\n",
    "                    20: 3, 21: 3, 22: 3, 23: 3, 24: 3,                                                                                                          # Reconnaissance\n",
    "                    25: 4, 26: 4,                                                                                                                               # Spoofing\n",
    "                    27: 5, 28: 5, 29: 5, 30: 5, 31: 5, 32: 5,                                                                                                   # Web\n",
    "                    33: 6}                                                                                                                                      # Brute Force\n",
    "\n",
    "dict_2_classes = {  0: 0 ,\n",
    "                    1 :1, 2:1,  3:1, 4:1, 5:1, 6:1, 7:1, 8:1, 9:1, 10:1, 11:1, 12:1, 13:1, 14:1, 15:1, 16:1,                                                    # DDoS and DoS  \n",
    "                    17: 1, 18: 1, 19: 1,                                                                                                                        # Mirai \n",
    "                    20: 1, 21: 1, 22: 1, 23: 1, 24: 1,                                                                                                          # Reconnaissance\n",
    "                    25: 1, 26: 1,                                                                                                                               # Spoofing\n",
    "                    27: 1, 28: 1, 29: 1, 30: 1, 31: 1, 32: 1,                                                                                                   # Web\n",
    "                    33: 1}                                                                                                                                      # Brute Force\n",
    "\n",
    "# Map y column to the dict_34_classes values\n",
    "df['label'] = df['label'].map(dict_34_classes)\n"
   ]
  },
  {
   "cell_type": "code",
   "execution_count": 143,
   "metadata": {},
   "outputs": [
    {
     "data": {
      "text/plain": [
       "0     5\n",
       "1     3\n",
       "2    17\n",
       "3     3\n",
       "4     8\n",
       "5    18\n",
       "6     6\n",
       "7     1\n",
       "8     2\n",
       "9    15\n",
       "Name: label, dtype: int64"
      ]
     },
     "execution_count": 143,
     "metadata": {},
     "output_type": "execute_result"
    }
   ],
   "source": [
    "# show first 10 rows of y column\n",
    "df[y_column].head(10)\n"
   ]
  },
  {
   "cell_type": "code",
   "execution_count": 145,
   "metadata": {},
   "outputs": [
    {
     "name": "stdout",
     "output_type": "stream",
     "text": [
      "6     37502\n",
      "4     27891\n",
      "5     23858\n",
      "2     21507\n",
      "3     21241\n",
      "1     21149\n",
      "7     18730\n",
      "13    17507\n",
      "15    13898\n",
      "14    10574\n",
      "0      5738\n",
      "17     5180\n",
      "19     4626\n",
      "18     3789\n",
      "10     2382\n",
      "26     1578\n",
      "8      1455\n",
      "9      1442\n",
      "25      954\n",
      "24      711\n",
      "21      469\n",
      "22      432\n",
      "16      384\n",
      "23      165\n",
      "12      138\n",
      "11      131\n",
      "33       69\n",
      "27       49\n",
      "32       33\n",
      "31       21\n",
      "29       18\n",
      "20       13\n",
      "28       10\n",
      "30        5\n",
      "Name: label, dtype: int64\n",
      "Unique values in y_column: 34\n"
     ]
    }
   ],
   "source": [
    "# show the unique values in the y column and their counts\n",
    "print(df[y_column].value_counts())\n",
    "\n",
    "# Count how many different unique values are in y column\n",
    "print('Unique values in y_column: {}'.format(len(df[y_column].unique())))"
   ]
  },
  {
   "cell_type": "code",
   "execution_count": 146,
   "metadata": {},
   "outputs": [
    {
     "name": "stdout",
     "output_type": "stream",
     "text": [
      "1    219789\n",
      "2     13595\n",
      "0      5738\n",
      "4      2532\n",
      "3      1790\n",
      "5       136\n",
      "6        69\n",
      "Name: label, dtype: int64\n"
     ]
    }
   ],
   "source": [
    "# Further map the y_column to the dict_7_classes values\n",
    "df['label'] = df['label'].map(dict_7_classes)\n",
    "\n",
    "# Show the first 10 rows of the y column\n",
    "df[y_column].head(10)\n",
    "\n",
    "# Show the unique values in the y column and their counts\n",
    "print(df[y_column].value_counts())\n"
   ]
  },
  {
   "cell_type": "code",
   "execution_count": null,
   "metadata": {},
   "outputs": [],
   "source": []
  }
 ],
 "metadata": {
  "kernelspec": {
   "display_name": "py310copy",
   "language": "python",
   "name": "python3"
  },
  "language_info": {
   "codemirror_mode": {
    "name": "ipython",
    "version": 3
   },
   "file_extension": ".py",
   "mimetype": "text/x-python",
   "name": "python",
   "nbconvert_exporter": "python",
   "pygments_lexer": "ipython3",
   "version": "3.10.9"
  },
  "orig_nbformat": 4
 },
 "nbformat": 4,
 "nbformat_minor": 2
}
