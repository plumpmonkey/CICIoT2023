{
 "cells": [
  {
   "cell_type": "markdown",
   "metadata": {},
   "source": [
    "# 01 - Explore the CICIoT2023 dataset"
   ]
  },
  {
   "cell_type": "markdown",
   "metadata": {},
   "source": [
    "Imports"
   ]
  },
  {
   "cell_type": "code",
   "execution_count": 3,
   "metadata": {},
   "outputs": [],
   "source": [
    "import pandas as pd\n",
    "import numpy as np\n",
    "import os\n",
    "from tqdm import tqdm"
   ]
  },
  {
   "cell_type": "code",
   "execution_count": 4,
   "metadata": {},
   "outputs": [],
   "source": [
    "DATASET_DIRECTORY = '../datasets/CICIoT2023/'"
   ]
  },
  {
   "cell_type": "markdown",
   "metadata": {},
   "source": [
    "Import the Dataset"
   ]
  },
  {
   "cell_type": "code",
   "execution_count": 7,
   "metadata": {},
   "outputs": [],
   "source": [
    "# Find all CSV files in the dataset directory and sort them\n",
    "df_sets = [k for k in os.listdir(DATASET_DIRECTORY) if k.endswith('.csv')]\n",
    "df_sets.sort()\n",
    "\n",
    "# Split the dataset into training and test sets. 80% training, 20% test\n",
    "training_sets = df_sets[:int(len(df_sets)*.8)]\n",
    "test_sets = df_sets[int(len(df_sets)*.8):]"
   ]
  },
  {
   "cell_type": "markdown",
   "metadata": {},
   "source": [
    "Examine file counts and size"
   ]
  },
  {
   "cell_type": "code",
   "execution_count": 8,
   "metadata": {},
   "outputs": [
    {
     "name": "stdout",
     "output_type": "stream",
     "text": [
      "Training sets: 135\n",
      "Test sets: 34\n"
     ]
    }
   ],
   "source": [
    "# Print the number of files in each set\n",
    "print('Training sets: {}'.format(len(training_sets)))\n",
    "print('Test sets: {}'.format(len(test_sets)))"
   ]
  },
  {
   "cell_type": "code",
   "execution_count": 11,
   "metadata": {},
   "outputs": [
    {
     "name": "stdout",
     "output_type": "stream",
     "text": [
      "Min file size: 62.41 MB\n",
      "Max file size: 132.99 MB\n",
      "Avg file size: 81.39 MB\n"
     ]
    }
   ],
   "source": [
    "# Show the min, max and average file size. Output size in MB\n",
    "print('Min file size: {} MB'.format(round(min([os.path.getsize(DATASET_DIRECTORY + k) for k in df_sets]) / 1000000, 2)))\n",
    "print('Max file size: {} MB'.format(round(max([os.path.getsize(DATASET_DIRECTORY + k) for k in df_sets]) / 1000000, 2)))\n",
    "print('Avg file size: {} MB'.format(round(np.mean([os.path.getsize(DATASET_DIRECTORY + k) for k in df_sets]) / 1000000, 2)))"
   ]
  },
  {
   "cell_type": "code",
   "execution_count": 12,
   "metadata": {},
   "outputs": [
    {
     "name": "stdout",
     "output_type": "stream",
     "text": [
      "Rows: 238687\n",
      "Columns: 47\n"
     ]
    },
    {
     "data": {
      "text/html": [
       "<div>\n",
       "<style scoped>\n",
       "    .dataframe tbody tr th:only-of-type {\n",
       "        vertical-align: middle;\n",
       "    }\n",
       "\n",
       "    .dataframe tbody tr th {\n",
       "        vertical-align: top;\n",
       "    }\n",
       "\n",
       "    .dataframe thead th {\n",
       "        text-align: right;\n",
       "    }\n",
       "</style>\n",
       "<table border=\"1\" class=\"dataframe\">\n",
       "  <thead>\n",
       "    <tr style=\"text-align: right;\">\n",
       "      <th></th>\n",
       "      <th>flow_duration</th>\n",
       "      <th>Header_Length</th>\n",
       "      <th>Protocol Type</th>\n",
       "      <th>Duration</th>\n",
       "      <th>Rate</th>\n",
       "      <th>Srate</th>\n",
       "      <th>Drate</th>\n",
       "      <th>fin_flag_number</th>\n",
       "      <th>syn_flag_number</th>\n",
       "      <th>rst_flag_number</th>\n",
       "      <th>...</th>\n",
       "      <th>Std</th>\n",
       "      <th>Tot size</th>\n",
       "      <th>IAT</th>\n",
       "      <th>Number</th>\n",
       "      <th>Magnitue</th>\n",
       "      <th>Radius</th>\n",
       "      <th>Covariance</th>\n",
       "      <th>Variance</th>\n",
       "      <th>Weight</th>\n",
       "      <th>label</th>\n",
       "    </tr>\n",
       "  </thead>\n",
       "  <tbody>\n",
       "    <tr>\n",
       "      <th>0</th>\n",
       "      <td>0.000000</td>\n",
       "      <td>54.00</td>\n",
       "      <td>6.00</td>\n",
       "      <td>64.00</td>\n",
       "      <td>0.329807</td>\n",
       "      <td>0.329807</td>\n",
       "      <td>0.0</td>\n",
       "      <td>1.0</td>\n",
       "      <td>0.0</td>\n",
       "      <td>1.0</td>\n",
       "      <td>...</td>\n",
       "      <td>0.000000</td>\n",
       "      <td>54.00</td>\n",
       "      <td>8.334383e+07</td>\n",
       "      <td>9.5</td>\n",
       "      <td>10.392305</td>\n",
       "      <td>0.000000</td>\n",
       "      <td>0.000000</td>\n",
       "      <td>0.00</td>\n",
       "      <td>141.55</td>\n",
       "      <td>DDoS-RSTFINFlood</td>\n",
       "    </tr>\n",
       "    <tr>\n",
       "      <th>1</th>\n",
       "      <td>0.000000</td>\n",
       "      <td>57.04</td>\n",
       "      <td>6.33</td>\n",
       "      <td>64.00</td>\n",
       "      <td>4.290556</td>\n",
       "      <td>4.290556</td>\n",
       "      <td>0.0</td>\n",
       "      <td>0.0</td>\n",
       "      <td>0.0</td>\n",
       "      <td>0.0</td>\n",
       "      <td>...</td>\n",
       "      <td>2.822973</td>\n",
       "      <td>57.04</td>\n",
       "      <td>8.292607e+07</td>\n",
       "      <td>9.5</td>\n",
       "      <td>10.464666</td>\n",
       "      <td>4.010353</td>\n",
       "      <td>160.987842</td>\n",
       "      <td>0.05</td>\n",
       "      <td>141.55</td>\n",
       "      <td>DoS-TCP_Flood</td>\n",
       "    </tr>\n",
       "    <tr>\n",
       "      <th>2</th>\n",
       "      <td>0.000000</td>\n",
       "      <td>0.00</td>\n",
       "      <td>1.00</td>\n",
       "      <td>64.00</td>\n",
       "      <td>33.396799</td>\n",
       "      <td>33.396799</td>\n",
       "      <td>0.0</td>\n",
       "      <td>0.0</td>\n",
       "      <td>0.0</td>\n",
       "      <td>0.0</td>\n",
       "      <td>...</td>\n",
       "      <td>0.000000</td>\n",
       "      <td>42.00</td>\n",
       "      <td>8.312799e+07</td>\n",
       "      <td>9.5</td>\n",
       "      <td>9.165151</td>\n",
       "      <td>0.000000</td>\n",
       "      <td>0.000000</td>\n",
       "      <td>0.00</td>\n",
       "      <td>141.55</td>\n",
       "      <td>DDoS-ICMP_Flood</td>\n",
       "    </tr>\n",
       "    <tr>\n",
       "      <th>3</th>\n",
       "      <td>0.328175</td>\n",
       "      <td>76175.00</td>\n",
       "      <td>17.00</td>\n",
       "      <td>64.00</td>\n",
       "      <td>4642.133010</td>\n",
       "      <td>4642.133010</td>\n",
       "      <td>0.0</td>\n",
       "      <td>0.0</td>\n",
       "      <td>0.0</td>\n",
       "      <td>0.0</td>\n",
       "      <td>...</td>\n",
       "      <td>0.000000</td>\n",
       "      <td>50.00</td>\n",
       "      <td>8.301570e+07</td>\n",
       "      <td>9.5</td>\n",
       "      <td>10.000000</td>\n",
       "      <td>0.000000</td>\n",
       "      <td>0.000000</td>\n",
       "      <td>0.00</td>\n",
       "      <td>141.55</td>\n",
       "      <td>DoS-UDP_Flood</td>\n",
       "    </tr>\n",
       "    <tr>\n",
       "      <th>4</th>\n",
       "      <td>0.117320</td>\n",
       "      <td>101.73</td>\n",
       "      <td>6.11</td>\n",
       "      <td>65.91</td>\n",
       "      <td>6.202211</td>\n",
       "      <td>6.202211</td>\n",
       "      <td>0.0</td>\n",
       "      <td>0.0</td>\n",
       "      <td>1.0</td>\n",
       "      <td>0.0</td>\n",
       "      <td>...</td>\n",
       "      <td>23.113111</td>\n",
       "      <td>57.88</td>\n",
       "      <td>8.297300e+07</td>\n",
       "      <td>9.5</td>\n",
       "      <td>11.346876</td>\n",
       "      <td>32.716243</td>\n",
       "      <td>3016.808286</td>\n",
       "      <td>0.19</td>\n",
       "      <td>141.55</td>\n",
       "      <td>DoS-SYN_Flood</td>\n",
       "    </tr>\n",
       "  </tbody>\n",
       "</table>\n",
       "<p>5 rows × 47 columns</p>\n",
       "</div>"
      ],
      "text/plain": [
       "   flow_duration  Header_Length  Protocol Type  Duration         Rate  \\\n",
       "0       0.000000          54.00           6.00     64.00     0.329807   \n",
       "1       0.000000          57.04           6.33     64.00     4.290556   \n",
       "2       0.000000           0.00           1.00     64.00    33.396799   \n",
       "3       0.328175       76175.00          17.00     64.00  4642.133010   \n",
       "4       0.117320         101.73           6.11     65.91     6.202211   \n",
       "\n",
       "         Srate  Drate  fin_flag_number  syn_flag_number  rst_flag_number  ...  \\\n",
       "0     0.329807    0.0              1.0              0.0              1.0  ...   \n",
       "1     4.290556    0.0              0.0              0.0              0.0  ...   \n",
       "2    33.396799    0.0              0.0              0.0              0.0  ...   \n",
       "3  4642.133010    0.0              0.0              0.0              0.0  ...   \n",
       "4     6.202211    0.0              0.0              1.0              0.0  ...   \n",
       "\n",
       "         Std  Tot size           IAT  Number   Magnitue     Radius  \\\n",
       "0   0.000000     54.00  8.334383e+07     9.5  10.392305   0.000000   \n",
       "1   2.822973     57.04  8.292607e+07     9.5  10.464666   4.010353   \n",
       "2   0.000000     42.00  8.312799e+07     9.5   9.165151   0.000000   \n",
       "3   0.000000     50.00  8.301570e+07     9.5  10.000000   0.000000   \n",
       "4  23.113111     57.88  8.297300e+07     9.5  11.346876  32.716243   \n",
       "\n",
       "    Covariance  Variance  Weight             label  \n",
       "0     0.000000      0.00  141.55  DDoS-RSTFINFlood  \n",
       "1   160.987842      0.05  141.55     DoS-TCP_Flood  \n",
       "2     0.000000      0.00  141.55   DDoS-ICMP_Flood  \n",
       "3     0.000000      0.00  141.55     DoS-UDP_Flood  \n",
       "4  3016.808286      0.19  141.55     DoS-SYN_Flood  \n",
       "\n",
       "[5 rows x 47 columns]"
      ]
     },
     "execution_count": 12,
     "metadata": {},
     "output_type": "execute_result"
    }
   ],
   "source": [
    "# Read the first csv from training sets into a dataframe\n",
    "df = pd.read_csv(DATASET_DIRECTORY + training_sets[0])\n",
    "\n",
    "# Print the number of rows and columns in the dataframe\n",
    "print('Rows: {}'.format(df.shape[0]))\n",
    "print('Columns: {}'.format(df.shape[1]))\n",
    "\n",
    "# Print the first 5 rows of the dataframe\n",
    "df.head()"
   ]
  },
  {
   "cell_type": "markdown",
   "metadata": {},
   "source": [
    "Columns used in the paper"
   ]
  },
  {
   "cell_type": "code",
   "execution_count": 13,
   "metadata": {},
   "outputs": [],
   "source": [
    "X_columns = [\n",
    "    'flow_duration', 'Header_Length', 'Protocol Type', 'Duration',\n",
    "       'Rate', 'Srate', 'Drate', 'fin_flag_number', 'syn_flag_number',\n",
    "       'rst_flag_number', 'psh_flag_number', 'ack_flag_number',\n",
    "       'ece_flag_number', 'cwr_flag_number', 'ack_count',\n",
    "       'syn_count', 'fin_count', 'urg_count', 'rst_count', \n",
    "    'HTTP', 'HTTPS', 'DNS', 'Telnet', 'SMTP', 'SSH', 'IRC', 'TCP',\n",
    "       'UDP', 'DHCP', 'ARP', 'ICMP', 'IPv', 'LLC', 'Tot sum', 'Min',\n",
    "       'Max', 'AVG', 'Std', 'Tot size', 'IAT', 'Number', 'Magnitue',\n",
    "       'Radius', 'Covariance', 'Variance', 'Weight', \n",
    "]\n",
    "y_column = 'label'"
   ]
  },
  {
   "cell_type": "code",
   "execution_count": 14,
   "metadata": {},
   "outputs": [
    {
     "name": "stdout",
     "output_type": "stream",
     "text": [
      "X_columns: 46\n",
      "y_column: label\n"
     ]
    }
   ],
   "source": [
    "# Show the number of X_columns and y_column\n",
    "print('X_columns: {}'.format(len(X_columns)))\n",
    "print('y_column: {}'.format(y_column))"
   ]
  },
  {
   "cell_type": "code",
   "execution_count": 21,
   "metadata": {},
   "outputs": [
    {
     "name": "stdout",
     "output_type": "stream",
     "text": [
      "Unique values in y_column: 34\n",
      "['DDoS-RSTFINFlood' 'DoS-TCP_Flood' 'DDoS-ICMP_Flood' 'DoS-UDP_Flood'\n",
      " 'DoS-SYN_Flood' 'Mirai-greeth_flood' 'DDoS-SynonymousIP_Flood'\n",
      " 'Mirai-udpplain' 'DDoS-SYN_Flood' 'DDoS-PSHACK_Flood' 'DDoS-TCP_Flood'\n",
      " 'DDoS-UDP_Flood' 'BenignTraffic' 'MITM-ArpSpoofing'\n",
      " 'DDoS-ACK_Fragmentation' 'Mirai-greip_flood' 'DoS-HTTP_Flood'\n",
      " 'DDoS-ICMP_Fragmentation' 'Recon-PortScan' 'DNS_Spoofing'\n",
      " 'DDoS-UDP_Fragmentation' 'Recon-OSScan' 'XSS' 'DDoS-HTTP_Flood'\n",
      " 'Recon-HostDiscovery' 'CommandInjection' 'VulnerabilityScan'\n",
      " 'DDoS-SlowLoris' 'Backdoor_Malware' 'BrowserHijacking'\n",
      " 'DictionaryBruteForce' 'SqlInjection' 'Recon-PingSweep'\n",
      " 'Uploading_Attack']\n"
     ]
    }
   ],
   "source": [
    "# Show the number of unique values in the y_column\n",
    "print('Unique values in y_column: {}'.format(len(df[y_column].unique())))\n",
    "\n",
    "# Print them out\n",
    "print(df[y_column].unique())\n",
    "\n",
    "# Save them as attack_labels\n",
    "attack_labels = df[y_column].unique()\n"
   ]
  },
  {
   "cell_type": "code",
   "execution_count": 22,
   "metadata": {},
   "outputs": [
    {
     "name": "stdout",
     "output_type": "stream",
     "text": [
      "DDoS-RSTFINFlood: 20669\n",
      "DoS-TCP_Flood: 13630\n",
      "DDoS-ICMP_Flood: 36554\n",
      "DoS-UDP_Flood: 16957\n",
      "DoS-SYN_Flood: 10275\n",
      "Mirai-greeth_flood: 5016\n",
      "DDoS-SynonymousIP_Flood: 18189\n",
      "Mirai-udpplain: 4661\n",
      "DDoS-SYN_Flood: 20739\n",
      "DDoS-PSHACK_Flood: 21210\n",
      "DDoS-TCP_Flood: 23149\n",
      "DDoS-UDP_Flood: 27626\n",
      "BenignTraffic: 5600\n",
      "MITM-ArpSpoofing: 1614\n",
      "DDoS-ACK_Fragmentation: 1505\n",
      "Mirai-greip_flood: 3758\n",
      "DoS-HTTP_Flood: 414\n",
      "DDoS-ICMP_Fragmentation: 2377\n",
      "Recon-PortScan: 430\n",
      "DNS_Spoofing: 925\n",
      "DDoS-UDP_Fragmentation: 1484\n",
      "Recon-OSScan: 517\n",
      "XSS: 18\n",
      "DDoS-HTTP_Flood: 169\n",
      "Recon-HostDiscovery: 697\n",
      "CommandInjection: 28\n",
      "VulnerabilityScan: 210\n",
      "DDoS-SlowLoris: 106\n",
      "Backdoor_Malware: 22\n",
      "BrowserHijacking: 30\n",
      "DictionaryBruteForce: 63\n",
      "SqlInjection: 31\n",
      "Recon-PingSweep: 6\n",
      "Uploading_Attack: 8\n"
     ]
    }
   ],
   "source": [
    "# Count the number of rows for each attack label\n",
    "for label in attack_labels:\n",
    "    print('{}: {}'.format(label, df[df[y_column] == label].shape[0]))\n",
    "    "
   ]
  },
  {
   "cell_type": "code",
   "execution_count": 24,
   "metadata": {},
   "outputs": [],
   "source": [
    "# Creating a dictionary of attack types for 33 attack classes + 1 for benign traffic\n",
    "traffic_34_class = {'BenignTraffic': 0 ,\n",
    "                    'DDoS-RSTFINFlood' :1, 'DDoS-PSHACK_Flood':2,  'DDoS-SYN_Flood':3, 'DDoS-UDP_Flood':4, 'DDoS-TCP_Flood':5, \n",
    "                    'DDoS-ICMP_Flood':6, 'DDoS-SynonymousIP_Flood':7, 'DDoS-ACK_Fragmentation':8, 'DDoS-UDP_Fragmentation':9, 'DDoS-ICMP_Fragmentation':10, \n",
    "                    'DDoS-SlowLoris':11, 'DDoS-HTTP_Flood':12, 'DoS-UDP_Flood':13, 'DoS-SYN_Flood':14, 'DoS-TCP_Flood':15, 'DoS-HTTP_Flood':16,                 # DDoS and DoS\n",
    "                    'Mirai-greeth_flood': 17, 'Mirai-greip_flood': 18, 'Mirai-udpplain': 19,                                                                    # Mirai \n",
    "                    'Recon-PingSweep': 20, 'Recon-OSScan': 21, 'Recon-PortScan': 22, 'VulnerabilityScan': 23, 'Recon-HostDiscovery': 24,                        # Reconnaissance\n",
    "                    'DNS_Spoofing': 25, 'MITM-ArpSpoofing': 26,                                                                                                 # Spoofing\n",
    "                    'BrowserHijacking': 27, 'Backdoor_Malware': 28, 'XSS': 29, 'Uploading_Attack': 30, 'SqlInjection': 31, 'CommandInjection': 32,              # Web\n",
    "                    'DictionaryBruteForce': 33}                                                                                                                 # Brute Force \n",
    "\n",
    "traffic_7_class = {'BenignTraffic': 0 ,\n",
    "                    'DDoS-RSTFINFlood' :1, 'DDoS-PSHACK_Flood':1,  'DDoS-SYN_Flood':1, 'DDoS-UDP_Flood':1, 'DDoS-TCP_Flood':1, \n",
    "                    'DDoS-ICMP_Flood':1, 'DDoS-SynonymousIP_Flood':1, 'DDoS-ACK_Fragmentation':1, 'DDoS-UDP_Fragmentation':1, 'DDoS-ICMP_Fragmentation':1, \n",
    "                    'DDoS-SlowLoris':1, 'DDoS-HTTP_Flood':1, 'DoS-UDP_Flood':1, 'DoS-SYN_Flood':1, 'DoS-TCP_Flood':1, 'DoS-HTTP_Flood':1,                       # DDoS and DoS\n",
    "                    'Mirai-greeth_flood': 2, 'Mirai-greip_flood': 2, 'Mirai-udpplain': 2,                                                                       # Mirai\n",
    "                    'Recon-PingSweep': 3, 'Recon-OSScan': 3, 'Recon-PortScan': 3, 'VulnerabilityScan': 3, 'Recon-HostDiscovery': 3,                             # Reconnaissance        \n",
    "                    'DNS_Spoofing': 4, 'MITM-ArpSpoofing': 4,                                                                                                   # Spoofing\n",
    "                    'BrowserHijacking': 5, 'Backdoor_Malware': 5, 'XSS': 5, 'Uploading_Attack': 5, 'SqlInjection': 5, 'CommandInjection': 5,                    # Web\n",
    "                    'DictionaryBruteForce': 33 }                                                                                                                # Brute Force\n",
    "\n",
    "traffic_2_class = {'BenignTraffic': 0 ,\n",
    "                    'DDoS-RSTFINFlood' :1, 'DDoS-PSHACK_Flood':1,  'DDoS-SYN_Flood':1, 'DDoS-UDP_Flood':1, 'DDoS-TCP_Flood':1,\n",
    "                    'DDoS-ICMP_Flood':1, 'DDoS-SynonymousIP_Flood':1, 'DDoS-ACK_Fragmentation':1, 'DDoS-UDP_Fragmentation':1, 'DDoS-ICMP_Fragmentation':1,\n",
    "                    'DDoS-SlowLoris':1, 'DDoS-HTTP_Flood':1, 'DoS-UDP_Flood':1, 'DoS-SYN_Flood':1, 'DoS-TCP_Flood':1, 'DoS-HTTP_Flood':1,                       # DDoS and DoS\n",
    "                    'Mirai-greeth_flood': 1, 'Mirai-greip_flood': 1, 'Mirai-udpplain': 1,                                                                       # Mirai\n",
    "                    'Recon-PingSweep': 1, 'Recon-OSScan': 1, 'Recon-PortScan': 1, 'VulnerabilityScan': 1, 'Recon-HostDiscovery': 1,                             # Reconnaissance\n",
    "                    'DNS_Spoofing': 1, 'MITM-ArpSpoofing': 1,                                                                                                   # Spoofing\n",
    "                    'BrowserHijacking': 1, 'Backdoor_Malware': 1, 'XSS': 1, 'Uploading_Attack': 1, 'SqlInjection': 1, 'CommandInjection': 1,                    # Web\n",
    "                    'DictionaryBruteForce': 1 }                                                                                                                 # Brute Force\n"
   ]
  },
  {
   "cell_type": "code",
   "execution_count": 25,
   "metadata": {},
   "outputs": [
    {
     "data": {
      "text/plain": [
       "0           DDoS-RSTFINFlood\n",
       "1              DoS-TCP_Flood\n",
       "2            DDoS-ICMP_Flood\n",
       "3              DoS-UDP_Flood\n",
       "4              DoS-SYN_Flood\n",
       "5         Mirai-greeth_flood\n",
       "6    DDoS-SynonymousIP_Flood\n",
       "7             Mirai-udpplain\n",
       "8              DoS-UDP_Flood\n",
       "9             DDoS-SYN_Flood\n",
       "Name: label, dtype: object"
      ]
     },
     "execution_count": 25,
     "metadata": {},
     "output_type": "execute_result"
    }
   ],
   "source": [
    "# show first 10 rows of y column\n",
    "df[y_column].head(10)\n"
   ]
  },
  {
   "cell_type": "code",
   "execution_count": 26,
   "metadata": {},
   "outputs": [],
   "source": [
    "# map the y column to the attack_labels for 34 class\n",
    "df[y_column] = df[y_column].map(traffic_34_class)"
   ]
  },
  {
   "cell_type": "code",
   "execution_count": 27,
   "metadata": {},
   "outputs": [
    {
     "data": {
      "text/plain": [
       "0     1\n",
       "1    15\n",
       "2     6\n",
       "3    13\n",
       "4    14\n",
       "5    17\n",
       "6     7\n",
       "7    19\n",
       "8    13\n",
       "9     3\n",
       "Name: label, dtype: int64"
      ]
     },
     "execution_count": 27,
     "metadata": {},
     "output_type": "execute_result"
    }
   ],
   "source": [
    "# show first 10 rows of y column\n",
    "df[y_column].head(10)"
   ]
  },
  {
   "cell_type": "code",
   "execution_count": null,
   "metadata": {},
   "outputs": [],
   "source": []
  }
 ],
 "metadata": {
  "kernelspec": {
   "display_name": "py310copy",
   "language": "python",
   "name": "python3"
  },
  "language_info": {
   "codemirror_mode": {
    "name": "ipython",
    "version": 3
   },
   "file_extension": ".py",
   "mimetype": "text/x-python",
   "name": "python",
   "nbconvert_exporter": "python",
   "pygments_lexer": "ipython3",
   "version": "3.10.9"
  },
  "orig_nbformat": 4
 },
 "nbformat": 4,
 "nbformat_minor": 2
}
