{
 "cells": [
  {
   "cell_type": "markdown",
   "id": "fb6a6862-9ab9-47c7-b5da-0bc772897129",
   "metadata": {},
   "source": [
    "# Training a ML model using CICIoT2023\n",
    "\n",
    "This notebook shows how a LogisticRegression model can be trained using the CICIoT2023 csv files."
   ]
  },
  {
   "cell_type": "code",
   "execution_count": 2,
   "id": "40f7c50d-b0ae-4f19-9398-1435ba7a851d",
   "metadata": {},
   "outputs": [],
   "source": [
    "import pandas as pd\n",
    "import numpy as np\n",
    "import os\n",
    "from tqdm import tqdm\n",
    "import warnings\n",
    "warnings.filterwarnings('ignore')\n",
    "from sklearn.linear_model import LogisticRegression"
   ]
  },
  {
   "cell_type": "code",
   "execution_count": 3,
   "id": "5c40b5d2-727b-4f37-a480-9d46304eb541",
   "metadata": {},
   "outputs": [],
   "source": [
    "DATASET_DIRECTORY = '../datasets/CICIoT2023/'"
   ]
  },
  {
   "cell_type": "markdown",
   "id": "3ec1f2b2-92b3-4622-895b-6ac5126f30b4",
   "metadata": {},
   "source": [
    "### Importing Dataset"
   ]
  },
  {
   "cell_type": "code",
   "execution_count": 4,
   "id": "6854f877-5524-46ba-b7ca-5d6040015f44",
   "metadata": {},
   "outputs": [],
   "source": [
    "df_sets = [k for k in os.listdir(DATASET_DIRECTORY) if k.endswith('.csv')]\n",
    "df_sets.sort()\n",
    "training_sets = df_sets[:int(len(df_sets)*.8)]\n",
    "test_sets = df_sets[int(len(df_sets)*.8):]"
   ]
  },
  {
   "cell_type": "code",
   "execution_count": 5,
   "id": "f521dee0",
   "metadata": {},
   "outputs": [
    {
     "name": "stdout",
     "output_type": "stream",
     "text": [
      "Training sets:\n",
      "\t part-00000-363d1ba3-8ab5-4f96-bc25-4d5862db7cb9-c000.csv\n",
      "\t part-00001-363d1ba3-8ab5-4f96-bc25-4d5862db7cb9-c000.csv\n",
      "\t part-00002-363d1ba3-8ab5-4f96-bc25-4d5862db7cb9-c000.csv\n",
      "\t part-00003-363d1ba3-8ab5-4f96-bc25-4d5862db7cb9-c000.csv\n",
      "\t part-00004-363d1ba3-8ab5-4f96-bc25-4d5862db7cb9-c000.csv\n",
      "\t part-00005-363d1ba3-8ab5-4f96-bc25-4d5862db7cb9-c000.csv\n",
      "\t part-00006-363d1ba3-8ab5-4f96-bc25-4d5862db7cb9-c000.csv\n",
      "\t part-00007-363d1ba3-8ab5-4f96-bc25-4d5862db7cb9-c000.csv\n",
      "\t part-00008-363d1ba3-8ab5-4f96-bc25-4d5862db7cb9-c000.csv\n",
      "\t part-00009-363d1ba3-8ab5-4f96-bc25-4d5862db7cb9-c000.csv\n",
      "\t part-00010-363d1ba3-8ab5-4f96-bc25-4d5862db7cb9-c000.csv\n",
      "\t part-00011-363d1ba3-8ab5-4f96-bc25-4d5862db7cb9-c000.csv\n",
      "\t part-00012-363d1ba3-8ab5-4f96-bc25-4d5862db7cb9-c000.csv\n",
      "\t part-00013-363d1ba3-8ab5-4f96-bc25-4d5862db7cb9-c000.csv\n",
      "\t part-00014-363d1ba3-8ab5-4f96-bc25-4d5862db7cb9-c000.csv\n",
      "\t part-00015-363d1ba3-8ab5-4f96-bc25-4d5862db7cb9-c000.csv\n",
      "\t part-00016-363d1ba3-8ab5-4f96-bc25-4d5862db7cb9-c000.csv\n",
      "\t part-00017-363d1ba3-8ab5-4f96-bc25-4d5862db7cb9-c000.csv\n",
      "\t part-00018-363d1ba3-8ab5-4f96-bc25-4d5862db7cb9-c000.csv\n",
      "\t part-00019-363d1ba3-8ab5-4f96-bc25-4d5862db7cb9-c000.csv\n",
      "\t part-00020-363d1ba3-8ab5-4f96-bc25-4d5862db7cb9-c000.csv\n",
      "\t part-00021-363d1ba3-8ab5-4f96-bc25-4d5862db7cb9-c000.csv\n",
      "\t part-00022-363d1ba3-8ab5-4f96-bc25-4d5862db7cb9-c000.csv\n",
      "\t part-00023-363d1ba3-8ab5-4f96-bc25-4d5862db7cb9-c000.csv\n",
      "\t part-00024-363d1ba3-8ab5-4f96-bc25-4d5862db7cb9-c000.csv\n",
      "\t part-00025-363d1ba3-8ab5-4f96-bc25-4d5862db7cb9-c000.csv\n",
      "\t part-00026-363d1ba3-8ab5-4f96-bc25-4d5862db7cb9-c000.csv\n",
      "\t part-00027-363d1ba3-8ab5-4f96-bc25-4d5862db7cb9-c000.csv\n",
      "\t part-00028-363d1ba3-8ab5-4f96-bc25-4d5862db7cb9-c000.csv\n",
      "\t part-00029-363d1ba3-8ab5-4f96-bc25-4d5862db7cb9-c000.csv\n",
      "\t part-00030-363d1ba3-8ab5-4f96-bc25-4d5862db7cb9-c000.csv\n",
      "\t part-00031-363d1ba3-8ab5-4f96-bc25-4d5862db7cb9-c000.csv\n",
      "\t part-00032-363d1ba3-8ab5-4f96-bc25-4d5862db7cb9-c000.csv\n",
      "\t part-00033-363d1ba3-8ab5-4f96-bc25-4d5862db7cb9-c000.csv\n",
      "\t part-00034-363d1ba3-8ab5-4f96-bc25-4d5862db7cb9-c000.csv\n",
      "\t part-00035-363d1ba3-8ab5-4f96-bc25-4d5862db7cb9-c000.csv\n",
      "\t part-00036-363d1ba3-8ab5-4f96-bc25-4d5862db7cb9-c000.csv\n",
      "\t part-00037-363d1ba3-8ab5-4f96-bc25-4d5862db7cb9-c000.csv\n",
      "\t part-00038-363d1ba3-8ab5-4f96-bc25-4d5862db7cb9-c000.csv\n",
      "\t part-00039-363d1ba3-8ab5-4f96-bc25-4d5862db7cb9-c000.csv\n",
      "\t part-00040-363d1ba3-8ab5-4f96-bc25-4d5862db7cb9-c000.csv\n",
      "\t part-00041-363d1ba3-8ab5-4f96-bc25-4d5862db7cb9-c000.csv\n",
      "\t part-00042-363d1ba3-8ab5-4f96-bc25-4d5862db7cb9-c000.csv\n",
      "\t part-00043-363d1ba3-8ab5-4f96-bc25-4d5862db7cb9-c000.csv\n",
      "\t part-00044-363d1ba3-8ab5-4f96-bc25-4d5862db7cb9-c000.csv\n",
      "\t part-00045-363d1ba3-8ab5-4f96-bc25-4d5862db7cb9-c000.csv\n",
      "\t part-00046-363d1ba3-8ab5-4f96-bc25-4d5862db7cb9-c000.csv\n",
      "\t part-00047-363d1ba3-8ab5-4f96-bc25-4d5862db7cb9-c000.csv\n",
      "\t part-00048-363d1ba3-8ab5-4f96-bc25-4d5862db7cb9-c000.csv\n",
      "\t part-00049-363d1ba3-8ab5-4f96-bc25-4d5862db7cb9-c000.csv\n",
      "\t part-00050-363d1ba3-8ab5-4f96-bc25-4d5862db7cb9-c000.csv\n",
      "\t part-00051-363d1ba3-8ab5-4f96-bc25-4d5862db7cb9-c000.csv\n",
      "\t part-00052-363d1ba3-8ab5-4f96-bc25-4d5862db7cb9-c000.csv\n",
      "\t part-00053-363d1ba3-8ab5-4f96-bc25-4d5862db7cb9-c000.csv\n",
      "\t part-00054-363d1ba3-8ab5-4f96-bc25-4d5862db7cb9-c000.csv\n",
      "\t part-00055-363d1ba3-8ab5-4f96-bc25-4d5862db7cb9-c000.csv\n",
      "\t part-00056-363d1ba3-8ab5-4f96-bc25-4d5862db7cb9-c000.csv\n",
      "\t part-00057-363d1ba3-8ab5-4f96-bc25-4d5862db7cb9-c000.csv\n",
      "\t part-00058-363d1ba3-8ab5-4f96-bc25-4d5862db7cb9-c000.csv\n",
      "\t part-00059-363d1ba3-8ab5-4f96-bc25-4d5862db7cb9-c000.csv\n",
      "\t part-00060-363d1ba3-8ab5-4f96-bc25-4d5862db7cb9-c000.csv\n",
      "\t part-00061-363d1ba3-8ab5-4f96-bc25-4d5862db7cb9-c000.csv\n",
      "\t part-00062-363d1ba3-8ab5-4f96-bc25-4d5862db7cb9-c000.csv\n",
      "\t part-00063-363d1ba3-8ab5-4f96-bc25-4d5862db7cb9-c000.csv\n",
      "\t part-00064-363d1ba3-8ab5-4f96-bc25-4d5862db7cb9-c000.csv\n",
      "\t part-00065-363d1ba3-8ab5-4f96-bc25-4d5862db7cb9-c000.csv\n",
      "\t part-00066-363d1ba3-8ab5-4f96-bc25-4d5862db7cb9-c000.csv\n",
      "\t part-00067-363d1ba3-8ab5-4f96-bc25-4d5862db7cb9-c000.csv\n",
      "\t part-00068-363d1ba3-8ab5-4f96-bc25-4d5862db7cb9-c000.csv\n",
      "\t part-00069-363d1ba3-8ab5-4f96-bc25-4d5862db7cb9-c000.csv\n",
      "\t part-00070-363d1ba3-8ab5-4f96-bc25-4d5862db7cb9-c000.csv\n",
      "\t part-00071-363d1ba3-8ab5-4f96-bc25-4d5862db7cb9-c000.csv\n",
      "\t part-00072-363d1ba3-8ab5-4f96-bc25-4d5862db7cb9-c000.csv\n",
      "\t part-00073-363d1ba3-8ab5-4f96-bc25-4d5862db7cb9-c000.csv\n",
      "\t part-00074-363d1ba3-8ab5-4f96-bc25-4d5862db7cb9-c000.csv\n",
      "\t part-00075-363d1ba3-8ab5-4f96-bc25-4d5862db7cb9-c000.csv\n",
      "\t part-00076-363d1ba3-8ab5-4f96-bc25-4d5862db7cb9-c000.csv\n",
      "\t part-00077-363d1ba3-8ab5-4f96-bc25-4d5862db7cb9-c000.csv\n",
      "\t part-00078-363d1ba3-8ab5-4f96-bc25-4d5862db7cb9-c000.csv\n",
      "\t part-00079-363d1ba3-8ab5-4f96-bc25-4d5862db7cb9-c000.csv\n",
      "\t part-00080-363d1ba3-8ab5-4f96-bc25-4d5862db7cb9-c000.csv\n",
      "\t part-00081-363d1ba3-8ab5-4f96-bc25-4d5862db7cb9-c000.csv\n",
      "\t part-00082-363d1ba3-8ab5-4f96-bc25-4d5862db7cb9-c000.csv\n",
      "\t part-00083-363d1ba3-8ab5-4f96-bc25-4d5862db7cb9-c000.csv\n",
      "\t part-00084-363d1ba3-8ab5-4f96-bc25-4d5862db7cb9-c000.csv\n",
      "\t part-00085-363d1ba3-8ab5-4f96-bc25-4d5862db7cb9-c000.csv\n",
      "\t part-00086-363d1ba3-8ab5-4f96-bc25-4d5862db7cb9-c000.csv\n",
      "\t part-00087-363d1ba3-8ab5-4f96-bc25-4d5862db7cb9-c000.csv\n",
      "\t part-00088-363d1ba3-8ab5-4f96-bc25-4d5862db7cb9-c000.csv\n",
      "\t part-00089-363d1ba3-8ab5-4f96-bc25-4d5862db7cb9-c000.csv\n",
      "\t part-00090-363d1ba3-8ab5-4f96-bc25-4d5862db7cb9-c000.csv\n",
      "\t part-00091-363d1ba3-8ab5-4f96-bc25-4d5862db7cb9-c000.csv\n",
      "\t part-00092-363d1ba3-8ab5-4f96-bc25-4d5862db7cb9-c000.csv\n",
      "\t part-00093-363d1ba3-8ab5-4f96-bc25-4d5862db7cb9-c000.csv\n",
      "\t part-00094-363d1ba3-8ab5-4f96-bc25-4d5862db7cb9-c000.csv\n",
      "\t part-00095-363d1ba3-8ab5-4f96-bc25-4d5862db7cb9-c000.csv\n",
      "\t part-00096-363d1ba3-8ab5-4f96-bc25-4d5862db7cb9-c000.csv\n",
      "\t part-00097-363d1ba3-8ab5-4f96-bc25-4d5862db7cb9-c000.csv\n",
      "\t part-00098-363d1ba3-8ab5-4f96-bc25-4d5862db7cb9-c000.csv\n",
      "\t part-00099-363d1ba3-8ab5-4f96-bc25-4d5862db7cb9-c000.csv\n",
      "\t part-00100-363d1ba3-8ab5-4f96-bc25-4d5862db7cb9-c000.csv\n",
      "\t part-00101-363d1ba3-8ab5-4f96-bc25-4d5862db7cb9-c000.csv\n",
      "\t part-00102-363d1ba3-8ab5-4f96-bc25-4d5862db7cb9-c000.csv\n",
      "\t part-00103-363d1ba3-8ab5-4f96-bc25-4d5862db7cb9-c000.csv\n",
      "\t part-00104-363d1ba3-8ab5-4f96-bc25-4d5862db7cb9-c000.csv\n",
      "\t part-00105-363d1ba3-8ab5-4f96-bc25-4d5862db7cb9-c000.csv\n",
      "\t part-00106-363d1ba3-8ab5-4f96-bc25-4d5862db7cb9-c000.csv\n",
      "\t part-00107-363d1ba3-8ab5-4f96-bc25-4d5862db7cb9-c000.csv\n",
      "\t part-00108-363d1ba3-8ab5-4f96-bc25-4d5862db7cb9-c000.csv\n",
      "\t part-00109-363d1ba3-8ab5-4f96-bc25-4d5862db7cb9-c000.csv\n",
      "\t part-00110-363d1ba3-8ab5-4f96-bc25-4d5862db7cb9-c000.csv\n",
      "\t part-00111-363d1ba3-8ab5-4f96-bc25-4d5862db7cb9-c000.csv\n",
      "\t part-00112-363d1ba3-8ab5-4f96-bc25-4d5862db7cb9-c000.csv\n",
      "\t part-00113-363d1ba3-8ab5-4f96-bc25-4d5862db7cb9-c000.csv\n",
      "\t part-00114-363d1ba3-8ab5-4f96-bc25-4d5862db7cb9-c000.csv\n",
      "\t part-00115-363d1ba3-8ab5-4f96-bc25-4d5862db7cb9-c000.csv\n",
      "\t part-00116-363d1ba3-8ab5-4f96-bc25-4d5862db7cb9-c000.csv\n",
      "\t part-00117-363d1ba3-8ab5-4f96-bc25-4d5862db7cb9-c000.csv\n",
      "\t part-00118-363d1ba3-8ab5-4f96-bc25-4d5862db7cb9-c000.csv\n",
      "\t part-00119-363d1ba3-8ab5-4f96-bc25-4d5862db7cb9-c000.csv\n",
      "\t part-00120-363d1ba3-8ab5-4f96-bc25-4d5862db7cb9-c000.csv\n",
      "\t part-00121-363d1ba3-8ab5-4f96-bc25-4d5862db7cb9-c000.csv\n",
      "\t part-00122-363d1ba3-8ab5-4f96-bc25-4d5862db7cb9-c000.csv\n",
      "\t part-00123-363d1ba3-8ab5-4f96-bc25-4d5862db7cb9-c000.csv\n",
      "\t part-00124-363d1ba3-8ab5-4f96-bc25-4d5862db7cb9-c000.csv\n",
      "\t part-00125-363d1ba3-8ab5-4f96-bc25-4d5862db7cb9-c000.csv\n",
      "\t part-00126-363d1ba3-8ab5-4f96-bc25-4d5862db7cb9-c000.csv\n",
      "\t part-00127-363d1ba3-8ab5-4f96-bc25-4d5862db7cb9-c000.csv\n",
      "\t part-00128-363d1ba3-8ab5-4f96-bc25-4d5862db7cb9-c000.csv\n",
      "\t part-00129-363d1ba3-8ab5-4f96-bc25-4d5862db7cb9-c000.csv\n",
      "\t part-00130-363d1ba3-8ab5-4f96-bc25-4d5862db7cb9-c000.csv\n",
      "\t part-00131-363d1ba3-8ab5-4f96-bc25-4d5862db7cb9-c000.csv\n",
      "\t part-00132-363d1ba3-8ab5-4f96-bc25-4d5862db7cb9-c000.csv\n",
      "\t part-00133-363d1ba3-8ab5-4f96-bc25-4d5862db7cb9-c000.csv\n",
      "\t part-00134-363d1ba3-8ab5-4f96-bc25-4d5862db7cb9-c000.csv\n"
     ]
    }
   ],
   "source": [
    "# print out every training set name\n",
    "print('Training sets:')\n",
    "for k in training_sets:\n",
    "    print('\\t', k)"
   ]
  },
  {
   "cell_type": "code",
   "execution_count": 6,
   "id": "0433838d-ca57-4dd8-b41c-ad2ee3df61c4",
   "metadata": {},
   "outputs": [],
   "source": [
    "X_columns = [\n",
    "    'flow_duration', 'Header_Length', 'Protocol Type', 'Duration',\n",
    "       'Rate', 'Srate', 'Drate', 'fin_flag_number', 'syn_flag_number',\n",
    "       'rst_flag_number', 'psh_flag_number', 'ack_flag_number',\n",
    "       'ece_flag_number', 'cwr_flag_number', 'ack_count',\n",
    "       'syn_count', 'fin_count', 'urg_count', 'rst_count', \n",
    "    'HTTP', 'HTTPS', 'DNS', 'Telnet', 'SMTP', 'SSH', 'IRC', 'TCP',\n",
    "       'UDP', 'DHCP', 'ARP', 'ICMP', 'IPv', 'LLC', 'Tot sum', 'Min',\n",
    "       'Max', 'AVG', 'Std', 'Tot size', 'IAT', 'Number', 'Magnitue',\n",
    "       'Radius', 'Covariance', 'Variance', 'Weight', \n",
    "]\n",
    "y_column = 'label'"
   ]
  },
  {
   "cell_type": "code",
   "execution_count": 7,
   "id": "080091fc",
   "metadata": {},
   "outputs": [],
   "source": [
    "# Set training_sets to be only the last entry in training_sets\n",
    "training_sets = training_sets[-1:]\n"
   ]
  },
  {
   "cell_type": "markdown",
   "id": "d58e4eb3",
   "metadata": {},
   "source": []
  },
  {
   "cell_type": "code",
   "execution_count": 8,
   "id": "180ab743",
   "metadata": {},
   "outputs": [
    {
     "name": "stdout",
     "output_type": "stream",
     "text": [
      "['part-00134-363d1ba3-8ab5-4f96-bc25-4d5862db7cb9-c000.csv']\n"
     ]
    }
   ],
   "source": [
    "# print out all the training sets\n",
    "print(training_sets)"
   ]
  },
  {
   "cell_type": "markdown",
   "id": "249673a6-4826-4b80-b9aa-dfa4c3d549c4",
   "metadata": {},
   "source": [
    "### Scaling"
   ]
  },
  {
   "cell_type": "code",
   "execution_count": 9,
   "id": "cba40f31",
   "metadata": {},
   "outputs": [],
   "source": [
    "from sklearn.preprocessing import MinMaxScaler, StandardScaler\n",
    "scaler = StandardScaler()"
   ]
  },
  {
   "cell_type": "code",
   "execution_count": 10,
   "id": "3682559f-9eb3-4d35-b1b2-d7d501ab85bc",
   "metadata": {},
   "outputs": [
    {
     "name": "stderr",
     "output_type": "stream",
     "text": [
      "  0%|          | 0/1 [00:00<?, ?it/s]"
     ]
    },
    {
     "name": "stderr",
     "output_type": "stream",
     "text": [
      "100%|██████████| 1/1 [00:03<00:00,  3.07s/it]\n"
     ]
    }
   ],
   "source": [
    "for train_set in tqdm(training_sets):\n",
    "    scaler.partial_fit(pd.read_csv(DATASET_DIRECTORY + train_set)[X_columns])"
   ]
  },
  {
   "cell_type": "markdown",
   "id": "60abc3f0-e32d-40be-abc5-fd5972cf9856",
   "metadata": {},
   "source": [
    "### Classification: 34 (33+1) classes"
   ]
  },
  {
   "cell_type": "code",
   "execution_count": 11,
   "id": "d208cf46-8ba9-480f-ab99-d4ee81c083b4",
   "metadata": {
    "tags": []
   },
   "outputs": [
    {
     "name": "stderr",
     "output_type": "stream",
     "text": [
      "100%|██████████| 1/1 [00:42<00:00, 42.65s/it]\n"
     ]
    }
   ],
   "source": [
    "ML_models = [\n",
    "        LogisticRegression(n_jobs=-1),\n",
    "]\n",
    "\n",
    "ML_neams = [\n",
    "        \"LogisticRegression\",\n",
    "]\n",
    "\n",
    "for train_set in tqdm(training_sets):\n",
    "    d = pd.read_csv(DATASET_DIRECTORY + train_set)\n",
    "    d[X_columns] = scaler.transform(d[X_columns])\n",
    "    for model in (ML_models):\n",
    "        model.fit(d[X_columns], d[y_column])\n",
    "    del d"
   ]
  },
  {
   "cell_type": "code",
   "execution_count": 17,
   "id": "b2ad8d9e",
   "metadata": {},
   "outputs": [
    {
     "name": "stdout",
     "output_type": "stream",
     "text": [
      "['Mirai-greeth_flood' 'DDoS-ICMP_Flood' 'MITM-ArpSpoofing' ...\n",
      " 'DoS-UDP_Flood' 'DoS-TCP_Flood' 'DoS-UDP_Flood']\n"
     ]
    }
   ],
   "source": [
    "\n"
   ]
  },
  {
   "cell_type": "code",
   "execution_count": 13,
   "id": "6116132e-02f0-4bac-aefb-2ba0bee924ab",
   "metadata": {},
   "outputs": [
    {
     "name": "stderr",
     "output_type": "stream",
     "text": [
      "  0%|          | 0/34 [00:00<?, ?it/s]"
     ]
    },
    {
     "name": "stderr",
     "output_type": "stream",
     "text": [
      "100%|██████████| 34/34 [01:58<00:00,  3.48s/it]\n"
     ]
    }
   ],
   "source": [
    "y_test = []\n",
    "preds = {i:[] for i in range(len(ML_models))}\n",
    "for test_set in tqdm(test_sets):\n",
    "    d_test = pd.read_csv(DATASET_DIRECTORY + test_set)\n",
    "    d_test[X_columns] = scaler.transform(d_test[X_columns])\n",
    "    \n",
    "    y_test += list(d_test[y_column].values)\n",
    "    \n",
    "    for i in range(len(ML_models)):\n",
    "        model = ML_models[i]\n",
    "        y_pred = list(model.predict(d_test[X_columns]))\n",
    "        preds[i] = preds[i] + y_pred\n",
    "        "
   ]
  },
  {
   "cell_type": "code",
   "execution_count": 14,
   "id": "375dcbfb-2b20-4b37-8fbb-c9d68a6ac541",
   "metadata": {},
   "outputs": [
    {
     "name": "stdout",
     "output_type": "stream",
     "text": [
      "##### LogisticRegression (34 classes) #####\n",
      "accuracy_score:  0.8023151670462384\n",
      "recall_score:  0.5952023743428114\n",
      "precision_score:  0.48675259432160517\n",
      "f1_score:  0.49388440774813125\n",
      "\n",
      "\n",
      "\n"
     ]
    }
   ],
   "source": [
    "from sklearn.metrics import accuracy_score, recall_score, precision_score, f1_score\n",
    "for k,v in preds.items():\n",
    "    y_pred = v\n",
    "    print(f\"##### {ML_neams[k]} (34 classes) #####\")\n",
    "    print('accuracy_score: ', accuracy_score(y_pred, y_test))\n",
    "    print('recall_score: ', recall_score(y_pred, y_test, average='macro'))\n",
    "    print('precision_score: ', precision_score(y_pred, y_test, average='macro'))\n",
    "    print('f1_score: ', f1_score(y_pred, y_test, average='macro'))\n",
    "    print()\n",
    "    print()\n",
    "    print()"
   ]
  },
  {
   "cell_type": "markdown",
   "id": "3958c6fa-6d05-48fb-a046-55e5843e4711",
   "metadata": {},
   "source": [
    "# Classification: 8 (7+1) classes"
   ]
  },
  {
   "cell_type": "code",
   "execution_count": 42,
   "id": "9208c899-8b57-4a3a-a2e7-94b057123536",
   "metadata": {},
   "outputs": [],
   "source": [
    "dict_7classes = {}\n",
    "dict_7classes['DDoS-RSTFINFlood'] = 'DDoS'\n",
    "dict_7classes['DDoS-PSHACK_Flood'] = 'DDoS'\n",
    "dict_7classes['DDoS-SYN_Flood'] = 'DDoS'\n",
    "dict_7classes['DDoS-UDP_Flood'] = 'DDoS'\n",
    "dict_7classes['DDoS-TCP_Flood'] = 'DDoS'\n",
    "dict_7classes['DDoS-ICMP_Flood'] = 'DDoS'\n",
    "dict_7classes['DDoS-SynonymousIP_Flood'] = 'DDoS'\n",
    "dict_7classes['DDoS-ACK_Fragmentation'] = 'DDoS'\n",
    "dict_7classes['DDoS-UDP_Fragmentation'] = 'DDoS'\n",
    "dict_7classes['DDoS-ICMP_Fragmentation'] = 'DDoS'\n",
    "dict_7classes['DDoS-SlowLoris'] = 'DDoS'\n",
    "dict_7classes['DDoS-HTTP_Flood'] = 'DDoS'\n",
    "\n",
    "dict_7classes['DoS-UDP_Flood'] = 'DoS'\n",
    "dict_7classes['DoS-SYN_Flood'] = 'DoS'\n",
    "dict_7classes['DoS-TCP_Flood'] = 'DoS'\n",
    "dict_7classes['DoS-HTTP_Flood'] = 'DoS'\n",
    "\n",
    "\n",
    "dict_7classes['Mirai-greeth_flood'] = 'Mirai'\n",
    "dict_7classes['Mirai-greip_flood'] = 'Mirai'\n",
    "dict_7classes['Mirai-udpplain'] = 'Mirai'\n",
    "\n",
    "dict_7classes['Recon-PingSweep'] = 'Recon'\n",
    "dict_7classes['Recon-OSScan'] = 'Recon'\n",
    "dict_7classes['Recon-PortScan'] = 'Recon'\n",
    "dict_7classes['VulnerabilityScan'] = 'Recon'\n",
    "dict_7classes['Recon-HostDiscovery'] = 'Recon'\n",
    "\n",
    "dict_7classes['DNS_Spoofing'] = 'Spoofing'\n",
    "dict_7classes['MITM-ArpSpoofing'] = 'Spoofing'\n",
    "\n",
    "dict_7classes['BenignTraffic'] = 'Benign'\n",
    "\n",
    "dict_7classes['BrowserHijacking'] = 'Web'\n",
    "dict_7classes['Backdoor_Malware'] = 'Web'\n",
    "dict_7classes['XSS'] = 'Web'\n",
    "dict_7classes['Uploading_Attack'] = 'Web'\n",
    "dict_7classes['SqlInjection'] = 'Web'\n",
    "dict_7classes['CommandInjection'] = 'Web'\n",
    "\n",
    "\n",
    "dict_7classes['DictionaryBruteForce'] = 'BruteForce'"
   ]
  },
  {
   "cell_type": "code",
   "execution_count": 43,
   "id": "4c1f697f-88d8-4ac4-8bc6-f1a8ac3794d5",
   "metadata": {},
   "outputs": [
    {
     "name": "stderr",
     "output_type": "stream",
     "text": [
      "100%|██████████| 1/1 [00:13<00:00, 13.35s/it]\n"
     ]
    }
   ],
   "source": [
    "from sklearn.ensemble import RandomForestClassifier\n",
    "from sklearn.linear_model import LogisticRegression\n",
    "\n",
    "\n",
    "ML_models = [\n",
    "        LogisticRegression(n_jobs=-1),\n",
    "]\n",
    "\n",
    "ML_neams = [\n",
    "        \"LogisticRegression\",\n",
    "]\n",
    "\n",
    "\n",
    "for train_set in tqdm(training_sets):\n",
    "    d = pd.read_csv(DATASET_DIRECTORY + train_set)\n",
    "    d[X_columns] = scaler.transform(d[X_columns])\n",
    "    new_y = [dict_7classes[k] for k in d[y_column]]\n",
    "    d[y_column] = new_y\n",
    "    \n",
    "    for model in (ML_models):\n",
    "        model.fit(d[X_columns], d[y_column])\n",
    "    del d"
   ]
  },
  {
   "cell_type": "code",
   "execution_count": 44,
   "id": "6b69c509-7666-45bd-9e11-52ecec0df8a8",
   "metadata": {},
   "outputs": [
    {
     "name": "stderr",
     "output_type": "stream",
     "text": [
      "100%|██████████| 34/34 [01:22<00:00,  2.43s/it]\n"
     ]
    }
   ],
   "source": [
    "y_test = []\n",
    "preds = {i:[] for i in range(len(ML_models))}\n",
    "for test_set in tqdm(test_sets):\n",
    "    d_test = pd.read_csv(DATASET_DIRECTORY + test_set)\n",
    "    d_test[X_columns] = scaler.transform(d_test[X_columns])\n",
    "    new_y = [dict_7classes[k] for k in d_test[y_column]]\n",
    "    d_test[y_column] = new_y\n",
    "    \n",
    "    y_test += list(d_test[y_column].values)\n",
    "    \n",
    "    for i in range(len(ML_models)):\n",
    "        model = ML_models[i]\n",
    "        y_pred = list(model.predict(d_test[X_columns]))\n",
    "        preds[i] = preds[i] + y_pred\n",
    "        "
   ]
  },
  {
   "cell_type": "code",
   "execution_count": 45,
   "id": "3e0a9702-63f5-4898-a8b0-2bf950fe881d",
   "metadata": {},
   "outputs": [
    {
     "name": "stdout",
     "output_type": "stream",
     "text": [
      "##### LogisticRegression (8 classes) #####\n",
      "accuracy_score =  0.8316741876649696\n",
      "recall_score =  0.6960555966679013\n",
      "precision_score =  0.512409685945838\n",
      "f1_score =  0.5394240477526282\n",
      "\n",
      "\n",
      "\n"
     ]
    }
   ],
   "source": [
    "from sklearn.metrics import accuracy_score, recall_score, precision_score, f1_score\n",
    "for k,v in preds.items():\n",
    "    y_pred = v\n",
    "    print(f\"##### {ML_neams[k]} (8 classes) #####\")\n",
    "    print('accuracy_score = ', accuracy_score(y_pred, y_test))\n",
    "    print('recall_score = ', recall_score(y_pred, y_test, average='macro'))\n",
    "    print('precision_score = ', precision_score(y_pred, y_test, average='macro'))\n",
    "    print('f1_score = ', f1_score(y_pred, y_test, average='macro'))\n",
    "    print()\n",
    "    print()\n",
    "    print()"
   ]
  },
  {
   "cell_type": "markdown",
   "id": "a6ecac59-fc02-4198-9910-daf890da7a0a",
   "metadata": {},
   "source": [
    "# Classification: 2 (1+1) Classes"
   ]
  },
  {
   "cell_type": "code",
   "execution_count": 46,
   "id": "90ee4a99-d160-43bc-b2a0-06fa3f49e222",
   "metadata": {},
   "outputs": [],
   "source": [
    "dict_2classes = {}\n",
    "dict_2classes['DDoS-RSTFINFlood'] = 'Attack'\n",
    "dict_2classes['DDoS-PSHACK_Flood'] = 'Attack'\n",
    "dict_2classes['DDoS-SYN_Flood'] = 'Attack'\n",
    "dict_2classes['DDoS-UDP_Flood'] = 'Attack'\n",
    "dict_2classes['DDoS-TCP_Flood'] = 'Attack'\n",
    "dict_2classes['DDoS-ICMP_Flood'] = 'Attack'\n",
    "dict_2classes['DDoS-SynonymousIP_Flood'] = 'Attack'\n",
    "dict_2classes['DDoS-ACK_Fragmentation'] = 'Attack'\n",
    "dict_2classes['DDoS-UDP_Fragmentation'] = 'Attack'\n",
    "dict_2classes['DDoS-ICMP_Fragmentation'] = 'Attack'\n",
    "dict_2classes['DDoS-SlowLoris'] = 'Attack'\n",
    "dict_2classes['DDoS-HTTP_Flood'] = 'Attack'\n",
    "\n",
    "dict_2classes['DoS-UDP_Flood'] = 'Attack'\n",
    "dict_2classes['DoS-SYN_Flood'] = 'Attack'\n",
    "dict_2classes['DoS-TCP_Flood'] = 'Attack'\n",
    "dict_2classes['DoS-HTTP_Flood'] = 'Attack'\n",
    "\n",
    "\n",
    "dict_2classes['Mirai-greeth_flood'] = 'Attack'\n",
    "dict_2classes['Mirai-greip_flood'] = 'Attack'\n",
    "dict_2classes['Mirai-udpplain'] = 'Attack'\n",
    "\n",
    "dict_2classes['Recon-PingSweep'] = 'Attack'\n",
    "dict_2classes['Recon-OSScan'] = 'Attack'\n",
    "dict_2classes['Recon-PortScan'] = 'Attack'\n",
    "dict_2classes['VulnerabilityScan'] = 'Attack'\n",
    "dict_2classes['Recon-HostDiscovery'] = 'Attack'\n",
    "\n",
    "dict_2classes['DNS_Spoofing'] = 'Attack'\n",
    "dict_2classes['MITM-ArpSpoofing'] = 'Attack'\n",
    "\n",
    "dict_2classes['BenignTraffic'] = 'Benign'\n",
    "\n",
    "dict_2classes['BrowserHijacking'] = 'Attack'\n",
    "dict_2classes['Backdoor_Malware'] = 'Attack'\n",
    "dict_2classes['XSS'] = 'Attack'\n",
    "dict_2classes['Uploading_Attack'] = 'Attack'\n",
    "dict_2classes['SqlInjection'] = 'Attack'\n",
    "dict_2classes['CommandInjection'] = 'Attack'\n",
    "\n",
    "dict_2classes['DictionaryBruteForce'] = 'Attack'"
   ]
  },
  {
   "cell_type": "code",
   "execution_count": 55,
   "id": "506eae35-a310-4a34-8bcf-c99282ed3225",
   "metadata": {},
   "outputs": [
    {
     "name": "stderr",
     "output_type": "stream",
     "text": [
      "100%|██████████| 1/1 [00:01<00:00,  1.74s/it]\n",
      "100%|██████████| 34/34 [01:23<00:00,  2.46s/it]\n"
     ]
    }
   ],
   "source": [
    "from sklearn.ensemble import RandomForestClassifier\n",
    "from sklearn.linear_model import LogisticRegression\n",
    "\n",
    "\n",
    "ML_models = [\n",
    "        LogisticRegression(n_jobs=-1),\n",
    "]\n",
    "\n",
    "ML_neams = [\n",
    "        \"LogisticRegression\",\n",
    "]\n",
    "\n",
    "data = []  # List to hold all datasets\n",
    "for train_set in tqdm(training_sets):\n",
    "    d = pd.read_csv(DATASET_DIRECTORY + train_set)\n",
    "    d[X_columns] = scaler.transform(d[X_columns])\n",
    "    new_y = [dict_2classes[k] for k in d[y_column]]\n",
    "    d[y_column] = new_y\n",
    "    data.append(d)  # Add the current dataset to the list\n",
    "\n",
    "# Combine all datasets\n",
    "combined_data = pd.concat(data, ignore_index=True)\n",
    "del data  # Delete the list to free up memory\n",
    "\n",
    "# Fit the models on the combined data\n",
    "for model in (ML_models):\n",
    "    model.fit(combined_data[X_columns], combined_data[y_column])\n",
    "del combined_data  # Delete the combined data to free up memory\n",
    "\n",
    "y_test = []\n",
    "preds = {i:[] for i in range(len(ML_models))}\n",
    "for test_set in tqdm(test_sets):\n",
    "    d_test = pd.read_csv(DATASET_DIRECTORY + test_set)\n",
    "    d_test[X_columns] = scaler.transform(d_test[X_columns])\n",
    "    new_y = [dict_2classes[k] for k in d_test[y_column]]\n",
    "    d_test[y_column] = new_y\n",
    "\n",
    "    y_test += list(d_test[y_column].values)\n",
    "\n",
    "    for i, model in enumerate(ML_models):\n",
    "        preds[i].append(model.predict(d_test[X_columns]))"
   ]
  },
  {
   "cell_type": "code",
   "execution_count": 52,
   "id": "caabf4fd-097d-4db2-847a-0dcd87144d6f",
   "metadata": {},
   "outputs": [
    {
     "name": "stdout",
     "output_type": "stream",
     "text": [
      "##### LogisticRegression (2 classes) #####\n"
     ]
    },
    {
     "ename": "ValueError",
     "evalue": "Found input variables with inconsistent numbers of samples: [0, 10340161]",
     "output_type": "error",
     "traceback": [
      "\u001b[1;31m---------------------------------------------------------------------------\u001b[0m",
      "\u001b[1;31mValueError\u001b[0m                                Traceback (most recent call last)",
      "\u001b[1;32mc:\\Users\\jd7-white\\Documents\\VSCode Projects\\CICIoT2023\\example.ipynb Cell 25\u001b[0m in \u001b[0;36m2\n\u001b[0;32m      <a href='vscode-notebook-cell:/c%3A/Users/jd7-white/Documents/VSCode%20Projects/CICIoT2023/example.ipynb#X31sZmlsZQ%3D%3D?line=0'>1</a>\u001b[0m \u001b[39mprint\u001b[39m(\u001b[39mf\u001b[39m\u001b[39m\"\u001b[39m\u001b[39m##### \u001b[39m\u001b[39m{\u001b[39;00mML_neams[k]\u001b[39m}\u001b[39;00m\u001b[39m (2 classes) #####\u001b[39m\u001b[39m\"\u001b[39m)\n\u001b[1;32m----> <a href='vscode-notebook-cell:/c%3A/Users/jd7-white/Documents/VSCode%20Projects/CICIoT2023/example.ipynb#X31sZmlsZQ%3D%3D?line=1'>2</a>\u001b[0m \u001b[39mprint\u001b[39m(\u001b[39m'\u001b[39m\u001b[39maccuracy_score: \u001b[39m\u001b[39m'\u001b[39m, accuracy_score(y_pred, y_test))\n\u001b[0;32m      <a href='vscode-notebook-cell:/c%3A/Users/jd7-white/Documents/VSCode%20Projects/CICIoT2023/example.ipynb#X31sZmlsZQ%3D%3D?line=2'>3</a>\u001b[0m \u001b[39mprint\u001b[39m(\u001b[39m'\u001b[39m\u001b[39mrecall_score: \u001b[39m\u001b[39m'\u001b[39m, recall_score(y_pred, y_test, average\u001b[39m=\u001b[39m\u001b[39m'\u001b[39m\u001b[39mmacro\u001b[39m\u001b[39m'\u001b[39m))\n\u001b[0;32m      <a href='vscode-notebook-cell:/c%3A/Users/jd7-white/Documents/VSCode%20Projects/CICIoT2023/example.ipynb#X31sZmlsZQ%3D%3D?line=3'>4</a>\u001b[0m \u001b[39mprint\u001b[39m(\u001b[39m'\u001b[39m\u001b[39mprecision_score: \u001b[39m\u001b[39m'\u001b[39m, precision_score(y_pred, y_test, average\u001b[39m=\u001b[39m\u001b[39m'\u001b[39m\u001b[39mmacro\u001b[39m\u001b[39m'\u001b[39m))\n",
      "File \u001b[1;32mc:\\Users\\jd7-white\\AppData\\Local\\anaconda3\\envs\\py310\\lib\\site-packages\\sklearn\\utils\\_param_validation.py:192\u001b[0m, in \u001b[0;36mvalidate_params.<locals>.decorator.<locals>.wrapper\u001b[1;34m(*args, **kwargs)\u001b[0m\n\u001b[0;32m    187\u001b[0m validate_parameter_constraints(\n\u001b[0;32m    188\u001b[0m     parameter_constraints, params, caller_name\u001b[39m=\u001b[39mfunc\u001b[39m.\u001b[39m\u001b[39m__qualname__\u001b[39m\n\u001b[0;32m    189\u001b[0m )\n\u001b[0;32m    191\u001b[0m \u001b[39mtry\u001b[39;00m:\n\u001b[1;32m--> 192\u001b[0m     \u001b[39mreturn\u001b[39;00m func(\u001b[39m*\u001b[39margs, \u001b[39m*\u001b[39m\u001b[39m*\u001b[39mkwargs)\n\u001b[0;32m    193\u001b[0m \u001b[39mexcept\u001b[39;00m InvalidParameterError \u001b[39mas\u001b[39;00m e:\n\u001b[0;32m    194\u001b[0m     \u001b[39m# When the function is just a wrapper around an estimator, we allow\u001b[39;00m\n\u001b[0;32m    195\u001b[0m     \u001b[39m# the function to delegate validation to the estimator, but we replace\u001b[39;00m\n\u001b[0;32m    196\u001b[0m     \u001b[39m# the name of the estimator by the name of the function in the error\u001b[39;00m\n\u001b[0;32m    197\u001b[0m     \u001b[39m# message to avoid confusion.\u001b[39;00m\n\u001b[0;32m    198\u001b[0m     msg \u001b[39m=\u001b[39m re\u001b[39m.\u001b[39msub(\n\u001b[0;32m    199\u001b[0m         \u001b[39mr\u001b[39m\u001b[39m\"\u001b[39m\u001b[39mparameter of \u001b[39m\u001b[39m\\\u001b[39m\u001b[39mw+ must be\u001b[39m\u001b[39m\"\u001b[39m,\n\u001b[0;32m    200\u001b[0m         \u001b[39mf\u001b[39m\u001b[39m\"\u001b[39m\u001b[39mparameter of \u001b[39m\u001b[39m{\u001b[39;00mfunc\u001b[39m.\u001b[39m\u001b[39m__qualname__\u001b[39m\u001b[39m}\u001b[39;00m\u001b[39m must be\u001b[39m\u001b[39m\"\u001b[39m,\n\u001b[0;32m    201\u001b[0m         \u001b[39mstr\u001b[39m(e),\n\u001b[0;32m    202\u001b[0m     )\n",
      "File \u001b[1;32mc:\\Users\\jd7-white\\AppData\\Local\\anaconda3\\envs\\py310\\lib\\site-packages\\sklearn\\metrics\\_classification.py:221\u001b[0m, in \u001b[0;36maccuracy_score\u001b[1;34m(y_true, y_pred, normalize, sample_weight)\u001b[0m\n\u001b[0;32m    155\u001b[0m \u001b[39m\"\"\"Accuracy classification score.\u001b[39;00m\n\u001b[0;32m    156\u001b[0m \n\u001b[0;32m    157\u001b[0m \u001b[39mIn multilabel classification, this function computes subset accuracy:\u001b[39;00m\n\u001b[1;32m   (...)\u001b[0m\n\u001b[0;32m    217\u001b[0m \u001b[39m0.5\u001b[39;00m\n\u001b[0;32m    218\u001b[0m \u001b[39m\"\"\"\u001b[39;00m\n\u001b[0;32m    220\u001b[0m \u001b[39m# Compute accuracy for each possible representation\u001b[39;00m\n\u001b[1;32m--> 221\u001b[0m y_type, y_true, y_pred \u001b[39m=\u001b[39m _check_targets(y_true, y_pred)\n\u001b[0;32m    222\u001b[0m check_consistent_length(y_true, y_pred, sample_weight)\n\u001b[0;32m    223\u001b[0m \u001b[39mif\u001b[39;00m y_type\u001b[39m.\u001b[39mstartswith(\u001b[39m\"\u001b[39m\u001b[39mmultilabel\u001b[39m\u001b[39m\"\u001b[39m):\n",
      "File \u001b[1;32mc:\\Users\\jd7-white\\AppData\\Local\\anaconda3\\envs\\py310\\lib\\site-packages\\sklearn\\metrics\\_classification.py:86\u001b[0m, in \u001b[0;36m_check_targets\u001b[1;34m(y_true, y_pred)\u001b[0m\n\u001b[0;32m     59\u001b[0m \u001b[39mdef\u001b[39;00m \u001b[39m_check_targets\u001b[39m(y_true, y_pred):\n\u001b[0;32m     60\u001b[0m     \u001b[39m\"\"\"Check that y_true and y_pred belong to the same classification task.\u001b[39;00m\n\u001b[0;32m     61\u001b[0m \n\u001b[0;32m     62\u001b[0m \u001b[39m    This converts multiclass or binary types to a common shape, and raises a\u001b[39;00m\n\u001b[1;32m   (...)\u001b[0m\n\u001b[0;32m     84\u001b[0m \u001b[39m    y_pred : array or indicator matrix\u001b[39;00m\n\u001b[0;32m     85\u001b[0m \u001b[39m    \"\"\"\u001b[39;00m\n\u001b[1;32m---> 86\u001b[0m     check_consistent_length(y_true, y_pred)\n\u001b[0;32m     87\u001b[0m     type_true \u001b[39m=\u001b[39m type_of_target(y_true, input_name\u001b[39m=\u001b[39m\u001b[39m\"\u001b[39m\u001b[39my_true\u001b[39m\u001b[39m\"\u001b[39m)\n\u001b[0;32m     88\u001b[0m     type_pred \u001b[39m=\u001b[39m type_of_target(y_pred, input_name\u001b[39m=\u001b[39m\u001b[39m\"\u001b[39m\u001b[39my_pred\u001b[39m\u001b[39m\"\u001b[39m)\n",
      "File \u001b[1;32mc:\\Users\\jd7-white\\AppData\\Local\\anaconda3\\envs\\py310\\lib\\site-packages\\sklearn\\utils\\validation.py:397\u001b[0m, in \u001b[0;36mcheck_consistent_length\u001b[1;34m(*arrays)\u001b[0m\n\u001b[0;32m    395\u001b[0m uniques \u001b[39m=\u001b[39m np\u001b[39m.\u001b[39munique(lengths)\n\u001b[0;32m    396\u001b[0m \u001b[39mif\u001b[39;00m \u001b[39mlen\u001b[39m(uniques) \u001b[39m>\u001b[39m \u001b[39m1\u001b[39m:\n\u001b[1;32m--> 397\u001b[0m     \u001b[39mraise\u001b[39;00m \u001b[39mValueError\u001b[39;00m(\n\u001b[0;32m    398\u001b[0m         \u001b[39m\"\u001b[39m\u001b[39mFound input variables with inconsistent numbers of samples: \u001b[39m\u001b[39m%r\u001b[39;00m\u001b[39m\"\u001b[39m\n\u001b[0;32m    399\u001b[0m         \u001b[39m%\u001b[39m [\u001b[39mint\u001b[39m(l) \u001b[39mfor\u001b[39;00m l \u001b[39min\u001b[39;00m lengths]\n\u001b[0;32m    400\u001b[0m     )\n",
      "\u001b[1;31mValueError\u001b[0m: Found input variables with inconsistent numbers of samples: [0, 10340161]"
     ]
    }
   ],
   "source": [
    "from sklearn.metrics import accuracy_score, recall_score, precision_score, f1_score\n",
    "for k,v in preds.items():\n",
    "    y_pred = v\n",
    "    print(f\"##### {ML_neams[k]} (8 classes) #####\")\n",
    "    print('accuracy_score = ', accuracy_score(y_pred, y_test))\n",
    "    print('recall_score = ', recall_score(y_pred, y_test, average='macro'))\n",
    "    print('precision_score = ', precision_score(y_pred, y_test, average='macro'))\n",
    "    print('f1_score = ', f1_score(y_pred, y_test, average='macro'))\n",
    "    print()\n",
    "    print()\n",
    "    print()"
   ]
  },
  {
   "cell_type": "code",
   "execution_count": null,
   "id": "e5938665",
   "metadata": {},
   "outputs": [],
   "source": []
  }
 ],
 "metadata": {
  "kernelspec": {
   "display_name": "Python 3 (ipykernel)",
   "language": "python",
   "name": "python3"
  },
  "language_info": {
   "codemirror_mode": {
    "name": "ipython",
    "version": 3
   },
   "file_extension": ".py",
   "mimetype": "text/x-python",
   "name": "python",
   "nbconvert_exporter": "python",
   "pygments_lexer": "ipython3",
   "version": "3.10.9"
  }
 },
 "nbformat": 4,
 "nbformat_minor": 5
}
